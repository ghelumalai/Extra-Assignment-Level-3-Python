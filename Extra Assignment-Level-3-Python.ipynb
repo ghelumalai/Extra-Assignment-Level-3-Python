{
 "cells": [
  {
   "cell_type": "code",
   "execution_count": 8,
   "id": "444fcdd0",
   "metadata": {},
   "outputs": [
    {
     "name": "stdout",
     "output_type": "stream",
     "text": [
      "Value: 10\n",
      "Correct\n"
     ]
    }
   ],
   "source": [
    "i=int(input(\"Value: \"))\n",
    "if(i==10):\n",
    "    print(\"Correct\")\n",
    "else:\n",
    "    print(\"Not Correct\")"
   ]
  },
  {
   "cell_type": "code",
   "execution_count": 13,
   "id": "f85a1166",
   "metadata": {},
   "outputs": [
    {
     "name": "stdout",
     "output_type": "stream",
     "text": [
      "Enter the Password: HOPE@123\n",
      "Your password is correct\n"
     ]
    }
   ],
   "source": [
    "passwd=input(\"Enter the Password: \")\n",
    "if(passwd==\"HOPE@123\"):\n",
    "    print(\"Your password is correct\")\n",
    "else:\n",
    "    print(\"Your password is Not correct\")"
   ]
  },
  {
   "cell_type": "code",
   "execution_count": 23,
   "id": "50a15b63",
   "metadata": {},
   "outputs": [
    {
     "name": "stdout",
     "output_type": "stream",
     "text": [
      "Age: 20\n",
      "Adult\n"
     ]
    }
   ],
   "source": [
    "age=int(input(\"Age: \"))\n",
    "if(age<18):\n",
    "    print(\"Child\")\n",
    "elif(age<=30):\n",
    "    print(\"Adult\")\n",
    "elif(age<=60):\n",
    "    print(\"Citizen\")\n",
    "else:\n",
    "    print(\"Senior Citizen\")"
   ]
  },
  {
   "cell_type": "code",
   "execution_count": 27,
   "id": "80ab72c1",
   "metadata": {},
   "outputs": [
    {
     "name": "stdout",
     "output_type": "stream",
     "text": [
      "Enter any number: 1\n",
      "No. is Positive\n"
     ]
    }
   ],
   "source": [
    "num=int(input(\"Enter any number: \"))\n",
    "if(num<=10):\n",
    "    print(\"No. is Positive\")\n",
    "else:\n",
    "    print(\"No. is Negative\")"
   ]
  },
  {
   "cell_type": "code",
   "execution_count": 30,
   "id": "a7a1a64b",
   "metadata": {},
   "outputs": [
    {
     "name": "stdout",
     "output_type": "stream",
     "text": [
      "Enter a number to check: 22\n",
      "No is not divisible by 5\n"
     ]
    }
   ],
   "source": [
    "num=int(input(\"Enter a number to check: \"))\n",
    "if(num%5==0):\n",
    "    print(\"No. is divisible by 5\")\n",
    "else:\n",
    "    print(\"No is not divisible by 5\")"
   ]
  }
 ],
 "metadata": {
  "kernelspec": {
   "display_name": "Python 3 (ipykernel)",
   "language": "python",
   "name": "python3"
  },
  "language_info": {
   "codemirror_mode": {
    "name": "ipython",
    "version": 3
   },
   "file_extension": ".py",
   "mimetype": "text/x-python",
   "name": "python",
   "nbconvert_exporter": "python",
   "pygments_lexer": "ipython3",
   "version": "3.11.5"
  }
 },
 "nbformat": 4,
 "nbformat_minor": 5
}
